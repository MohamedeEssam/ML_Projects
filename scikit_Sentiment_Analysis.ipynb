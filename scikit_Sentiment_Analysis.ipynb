{
 "cells": [
  {
   "cell_type": "code",
   "execution_count": null,
   "metadata": {
    "colab": {
     "base_uri": "https://localhost:8080/"
    },
    "id": "Q1gBVDHWitxD",
    "outputId": "7b39d7da-5cc0-46e0-ebc0-450d75ec2011"
   },
   "outputs": [
    {
     "name": "stdout",
     "output_type": "stream",
     "text": [
      "Mounted at /content/gdrive\n"
     ]
    }
   ],
   "source": [
    "from google.colab import drive\n",
    "drive.mount(\"/content/gdrive\")\n"
   ]
  },
  {
   "cell_type": "markdown",
   "metadata": {
    "id": "9TCQLbCujCO9"
   },
   "source": [
    "# **Sentiment Analysis**"
   ]
  },
  {
   "cell_type": "code",
   "execution_count": null,
   "metadata": {
    "colab": {
     "base_uri": "https://localhost:8080/"
    },
    "id": "Pjcdzbc1jQPo",
    "outputId": "3cac0313-faf5-4122-fea7-71b275f9ac19"
   },
   "outputs": [
    {
     "name": "stdout",
     "output_type": "stream",
     "text": [
      "(50000, 2)\n",
      "<class 'pandas.core.frame.DataFrame'>\n",
      "RangeIndex: 50000 entries, 0 to 49999\n",
      "Data columns (total 2 columns):\n",
      " #   Column     Non-Null Count  Dtype \n",
      "---  ------     --------------  ----- \n",
      " 0   review     50000 non-null  object\n",
      " 1   sentiment  50000 non-null  object\n",
      "dtypes: object(2)\n",
      "memory usage: 781.4+ KB\n",
      "None\n",
      "-----------------------------------------------------------------------\n",
      "Sentiment        : \n",
      " positive    25000\n",
      "negative    25000\n",
      "Name: sentiment, dtype: int64\n",
      "-----------------------------------------------------------------------\n",
      "                                                  review sentiment\n",
      "30632  This movie doesn't even deserve a one. This wa...  negative\n",
      "30778  I admit I go more for the traditional vampire ...  positive\n",
      "8011   This one was truly awful. Watching with fascin...  negative\n",
      "3977   Reeves plays Haji Murad, a hero in 1850's Russ...  negative\n",
      "24744  One type of western I greatly enjoy is when th...  positive\n",
      "3103   I don't know about the rest of the viewers of ...  negative\n",
      "45269  A movie visually graceful but interesting is m...  positive\n",
      "6994   This was my second experience of the Monkey Is...  positive\n",
      "22902  Ghost Town starts as Kate Barrett (Catherine H...  negative\n",
      "45509  This movie is never going to be on a list of t...  positive\n"
     ]
    }
   ],
   "source": [
    "import pandas as pd\n",
    "# Load data and set labels\n",
    "data = pd.read_csv(\"/content/gdrive/MyDrive/hichem_data/IMDB_Dataset/IMDB_Dataset.csv\")\n",
    "\n",
    "# Display dimensions of dataframe\n",
    "print(data.shape)\n",
    "print(data.info())\n",
    "\n",
    "print(\"-----------------------------------------------------------------------\")\n",
    "# value_counts() function : Return a Series containing counts of unique values.\n",
    "print(\"Sentiment        : \\n\",data[\"sentiment\"].value_counts())\n",
    "\n",
    "print(\"-----------------------------------------------------------------------\")\n",
    "# Display 10 random samples\n",
    "print(data.sample(10))\n"
   ]
  },
  {
   "cell_type": "code",
   "execution_count": null,
   "metadata": {
    "colab": {
     "base_uri": "https://localhost:8080/"
    },
    "id": "QZ0Dozp65CXd",
    "outputId": "c6faafea-836a-48a1-c355-f943abab1a2f"
   },
   "outputs": [
    {
     "name": "stdout",
     "output_type": "stream",
     "text": [
      "number of duplicate rows :  (418, 2)\n"
     ]
    }
   ],
   "source": [
    "# Dropping the duplicate rows\n",
    "duplicate_rows = data[data.duplicated()]\n",
    "print(\"number of duplicate rows : \",duplicate_rows.shape)\n",
    "\n",
    "data.drop_duplicates(inplace=True)\n",
    "                     "
   ]
  },
  {
   "cell_type": "code",
   "execution_count": null,
   "metadata": {
    "colab": {
     "base_uri": "https://localhost:8080/"
    },
    "id": "jWmJcVd05OEd",
    "outputId": "94bf2d79-517c-40f9-c383-d79df97d3d49"
   },
   "outputs": [
    {
     "name": "stdout",
     "output_type": "stream",
     "text": [
      "number of duplicate rows :  (0, 2)\n"
     ]
    }
   ],
   "source": [
    "duplicate_rows = data[data.duplicated()]\n",
    "print(\"number of duplicate rows : \",duplicate_rows.shape)\n"
   ]
  },
  {
   "cell_type": "code",
   "execution_count": null,
   "metadata": {
    "colab": {
     "base_uri": "https://localhost:8080/",
     "height": 352
    },
    "id": "CnOV4VPJnQYS",
    "outputId": "24dd34e0-1a66-466a-e4e3-59502558961d"
   },
   "outputs": [
    {
     "name": "stdout",
     "output_type": "stream",
     "text": [
      "SUM : \n",
      " review       0\n",
      "sentiment    0\n",
      "dtype: int64\n"
     ]
    },
    {
     "data": {
      "text/plain": [
       "<matplotlib.axes._subplots.AxesSubplot at 0x7f5a61c57690>"
      ]
     },
     "execution_count": 4,
     "metadata": {},
     "output_type": "execute_result"
    },
    {
     "data": {
      "image/png": "[encoded data removed]",
      "text/plain": [
       "<Figure size 432x288 with 1 Axes>"
      ]
     },
     "metadata": {
      "needs_background": "light"
     },
     "output_type": "display_data"
    }
   ],
   "source": [
    "# To check missing values\n",
    "print(\"SUM : \\n\",data.isnull().sum())\n",
    "\n",
    "import seaborn as sns\n",
    "sns.heatmap(data.isnull(), cbar=False, yticklabels=False, cmap=\"viridis\")\n",
    "\n",
    "# data[\"col\"] = data[\"col\"].fillna(df[\"col\"].mean())\n",
    "# data[\"col\"] = data[\"col\"].fillna(data[\"col\"].interpolate())\n"
   ]
  },
  {
   "cell_type": "code",
   "execution_count": null,
   "metadata": {
    "colab": {
     "base_uri": "https://localhost:8080/"
    },
    "id": "0uqAwywB5VhA",
    "outputId": "6bcfa873-b52b-4cde-d82a-26567e70bcda"
   },
   "outputs": [
    {
     "name": "stdout",
     "output_type": "stream",
     "text": [
      "                                                  review  sentiment\n",
      "27173  Years ago, I caught a fairly well made TV movi...          0\n",
      "47772  There's not much anyone can say about this fli...          1\n",
      "39879  I mistakenly thought this was the 70's art fil...          0\n",
      "23553  WARNING: SPOILERS Dear Roger,<br /><br />Durin...          0\n",
      "21863  This film is bad, yes, but had the producers u...          0\n"
     ]
    }
   ],
   "source": [
    "# Mapping of data feature values\n",
    "data_copy = data.copy()\n",
    "data_copy[\"sentiment\"] = data_copy[\"sentiment\"].map({\"negative\":0,\"positive\":1})\n",
    "\n",
    "# Display 5 random samples\n",
    "print(data_copy.sample(5))\n"
   ]
  },
  {
   "cell_type": "code",
   "execution_count": null,
   "metadata": {
    "colab": {
     "base_uri": "https://localhost:8080/"
    },
    "id": "6R9aHWm8jQbn",
    "outputId": "03f56890-6a35-4880-a9ce-97d2b1e2ee27"
   },
   "outputs": [
    {
     "name": "stdout",
     "output_type": "stream",
     "text": [
      "X:  (49582,)  y:  (49582,)\n",
      "new_data =  (12396,)  new_label =  (12396,)\n"
     ]
    }
   ],
   "source": [
    "# X and Y for our data\n",
    "X = data_copy[\"review\"].values\n",
    "y = data_copy[\"sentiment\"].values\n",
    "print(\"X: \",X.shape, \" y: \",y.shape)\n",
    "\n",
    "# shuffle the dataset\n",
    "from sklearn.utils import shuffle\n",
    "X, y = shuffle(X, y, random_state=0)\n",
    "\n",
    "# Take a subset of dataset\n",
    "from sklearn.model_selection import train_test_split\n",
    "F0, new_data, L0, new_label = train_test_split(X, \n",
    "              y, test_size= 0.25, random_state=100, stratify=y)\n",
    "\n",
    "print(\"new_data = \",new_data.shape ,\" new_label = \", new_label.shape)\n"
   ]
  },
  {
   "cell_type": "code",
   "execution_count": null,
   "metadata": {
    "colab": {
     "base_uri": "https://localhost:8080/"
    },
    "id": "yzUeFbYrj2p4",
    "outputId": "2aa87cb9-ef6b-4bab-d27b-1e104286041a"
   },
   "outputs": [
    {
     "name": "stdout",
     "output_type": "stream",
     "text": [
      " texts shape =  (12396, 57147)\n"
     ]
    }
   ],
   "source": [
    "# In order to use this data for machine learning, we need to be able to convert \n",
    "# the content of each string into a vector of numbers. \n",
    "# For this we will use the TF-IDF vectorizer \n",
    "from sklearn.feature_extraction.text import TfidfVectorizer\n",
    "vec = TfidfVectorizer()\n",
    "vec.fit(new_data)\n",
    "\n",
    "texts = vec.transform(new_data).toarray()\n",
    "\n",
    "print(\" texts shape = \",texts.shape)\n"
   ]
  },
  {
   "cell_type": "code",
   "execution_count": null,
   "metadata": {
    "colab": {
     "base_uri": "https://localhost:8080/"
    },
    "id": "24xUkvYDPCgK",
    "outputId": "57746dd0-76b7-442e-deaf-355369a20087"
   },
   "outputs": [
    {
     "name": "stdout",
     "output_type": "stream",
     "text": [
      "X_train shape :  (9916, 57147)  y_train shape :  (9916,)\n",
      "X_test shape  :  (2480, 57147)  y_test shape  :  (2480,)\n"
     ]
    }
   ],
   "source": [
    "# split the dataset into training data and test data\n",
    "from sklearn.model_selection import train_test_split\n",
    "X_train, X_test, y_train, y_test = train_test_split(texts, new_label, \n",
    "                        test_size= 0.20, random_state=100, stratify=new_label)\n",
    "\n",
    "print(\"X_train shape : \",X_train.shape, \" y_train shape : \",y_train.shape)\n",
    "print(\"X_test shape  : \",X_test.shape,  \" y_test shape  : \",y_test.shape)\n"
   ]
  },
  {
   "cell_type": "code",
   "execution_count": null,
   "metadata": {
    "colab": {
     "base_uri": "https://localhost:8080/",
     "height": 606
    },
    "id": "QzA8HUHrmPB7",
    "outputId": "5afc937b-994a-4042-bdb3-baea0d0f76ca"
   },
   "outputs": [
    {
     "name": "stdout",
     "output_type": "stream",
     "text": [
      "Classification report : \n",
      " LogisticRegression(random_state=42) \n",
      "               precision    recall  f1-score   support\n",
      "\n",
      "           0       0.87      0.85      0.86      1235\n",
      "           1       0.86      0.87      0.86      1245\n",
      "\n",
      "    accuracy                           0.86      2480\n",
      "   macro avg       0.86      0.86      0.86      2480\n",
      "weighted avg       0.86      0.86      0.86      2480\n",
      "\n"
     ]
    },
    {
     "name": "stderr",
     "output_type": "stream",
     "text": [
      "/usr/local/lib/python3.7/dist-packages/sklearn/utils/deprecation.py:87: FutureWarning: Function plot_confusion_matrix is deprecated; Function `plot_confusion_matrix` is deprecated in 1.0 and will be removed in 1.2. Use one of the class methods: ConfusionMatrixDisplay.from_predictions or ConfusionMatrixDisplay.from_estimator.\n",
      "  warnings.warn(msg, category=FutureWarning)\n"
     ]
    },
    {
     "name": "stdout",
     "output_type": "stream",
     "text": [
      "Confusion matrix: \n",
      " [[1051  184]\n",
      " [ 156 1089]]\n"
     ]
    },
    {
     "data": {
      "image/png": "[encoded data removed]",
      "text/plain": [
       "<Figure size 432x288 with 2 Axes>"
      ]
     },
     "metadata": {
      "needs_background": "light"
     },
     "output_type": "display_data"
    }
   ],
   "source": [
    "# training the model on training set\n",
    "from sklearn.naive_bayes import MultinomialNB\n",
    "from sklearn.linear_model import LogisticRegression\n",
    "\n",
    "# classifier = MultinomialNB()\n",
    "classifier = LogisticRegression(random_state=42)\n",
    "\n",
    "classifier.fit(X_train, y_train)\n",
    "\n",
    "# making predictions on the testing set \n",
    "predicted = classifier.predict(X_test)\n",
    "\n",
    "from sklearn import metrics\n",
    "print(\"Classification report : \\n\", classifier,\"\\n\", \n",
    "      metrics.classification_report(y_test, predicted))\n",
    "disp = metrics.plot_confusion_matrix(classifier, X_test, y_test)\n",
    "disp.figure_.suptitle(\"Confusion Matrix\")\n",
    "print(\"Confusion matrix: \\n\", disp.confusion_matrix)\n"
   ]
  },
  {
   "cell_type": "code",
   "execution_count": null,
   "metadata": {
    "colab": {
     "base_uri": "https://localhost:8080/",
     "height": 582
    },
    "id": "GRoGLhjqoJN8",
    "outputId": "20666b6b-2f74-4670-dff5-e20f1e8255eb"
   },
   "outputs": [
    {
     "name": "stdout",
     "output_type": "stream",
     "text": [
      "Confusion matrix : \n",
      "\n"
     ]
    },
    {
     "data": {
      "image/png": "[encoded data removed]",
      "text/plain": [
       "<Figure size 432x288 with 1 Axes>"
      ]
     },
     "metadata": {
      "needs_background": "light"
     },
     "output_type": "display_data"
    },
    {
     "name": "stdout",
     "output_type": "stream",
     "text": [
      "Normalized confusion matrix : \n",
      "\n"
     ]
    },
    {
     "data": {
      "image/png": "[encoded data removed]",
      "text/plain": [
       "<Figure size 432x288 with 1 Axes>"
      ]
     },
     "metadata": {
      "needs_background": "light"
     },
     "output_type": "display_data"
    }
   ],
   "source": [
    "# Function to draw confusion matrix\n",
    "import seaborn as sns\n",
    "from sklearn.metrics import confusion_matrix\n",
    "import numpy as np\n",
    "import matplotlib.pyplot as plt\n",
    "\n",
    "def draw_confusion_matrix(true, preds, normalize=None):\n",
    "  # Compute confusion matrix\n",
    "  conf_matx = confusion_matrix(true, preds, normalize = normalize)\n",
    "  conf_matx = np.round(conf_matx, 2)\n",
    "  # print(conf_matx)\n",
    "\n",
    "  # plt.subplots(figsize=(14,8))\n",
    "  sns.heatmap(conf_matx, annot=True, annot_kws={\"size\": 12},fmt=\"g\", cbar=False, cmap=\"viridis\")\n",
    "  plt.show()\n",
    "\n",
    "print(\"Confusion matrix : \\n\")\n",
    "draw_confusion_matrix(y_test, predicted)\n",
    "\n",
    "print(\"Normalized confusion matrix : \\n\")\n",
    "draw_confusion_matrix(y_test, predicted,\"true\")\n"
   ]
  },
  {
   "cell_type": "code",
   "execution_count": null,
   "metadata": {
    "colab": {
     "base_uri": "https://localhost:8080/",
     "height": 279
    },
    "id": "NtKh7M6Co-P_",
    "outputId": "5b944871-8b07-489d-9753-e48a005e7b7e"
   },
   "outputs": [
    {
     "data": {
      "image/png": "[encoded data removed]",
      "text/plain": [
       "<Figure size 432x288 with 1 Axes>"
      ]
     },
     "metadata": {
      "needs_background": "light"
     },
     "output_type": "display_data"
    }
   ],
   "source": [
    "# AUC-ROC curve (an evaluation metric for binary classification problems)\n",
    "\"\"\"\n",
    "AUC : The Area Under the Curve \n",
    "ROC : Receiver Characteristic Operator\n",
    "\n",
    "AUC measures the entire two-dimensional area underneath the entire ROC curve \n",
    "(think integral calculus) from (0,0) to (1,1).\n",
    "\n",
    "When AUC = 1, then the classifier is able to perfectly distinguish between all \n",
    "the Positive and the Negative class points correctly. If, however, the AUC had been 0, \n",
    "then the classifier would be predicting all Negatives as Positives, and all Positives as Negatives\n",
    "\"\"\"\n",
    "from sklearn import metrics\n",
    "disp = metrics.plot_roc_curve(classifier, X_test, y_test)"
   ]
  },
  {
   "cell_type": "code",
   "execution_count": null,
   "metadata": {
    "colab": {
     "base_uri": "https://localhost:8080/",
     "height": 312
    },
    "id": "3u7GdzM7qp9l",
    "outputId": "00b161ed-5656-455e-eb98-5e223808c333"
   },
   "outputs": [
    {
     "data": {
      "text/plain": [
       "Text(0.5, 1.0, '2-class Precision-Recall curve: ')"
      ]
     },
     "execution_count": 10,
     "metadata": {},
     "output_type": "execute_result"
    },
    {
     "data": {
      "image/png": "[encoded data removed]",
      "text/plain": [
       "<Figure size 432x288 with 1 Axes>"
      ]
     },
     "metadata": {
      "needs_background": "light"
     },
     "output_type": "display_data"
    }
   ],
   "source": [
    "\"\"\"\n",
    "A system with high recall but low precision returns many results, \n",
    "but most of its predicted labels are incorrect when compared to the training labels.\n",
    "\n",
    "A system with high precision but low recall is just the opposite, \n",
    "returning very few results, but most of its predicted labels are correct when \n",
    "compared to the training labels. \n",
    "\n",
    "An ideal system with high precision and high recall will return many results, \n",
    "with all results labeled correctly.\n",
    "\n",
    "AP : average precision AP = SUMn((Rn - Rn-1) * Pn) \n",
    "\"\"\"\n",
    "from sklearn.metrics import plot_precision_recall_curve\n",
    "\n",
    "disp = plot_precision_recall_curve(classifier, X_test, y_test)\n",
    "disp.ax_.set_title(\"2-class Precision-Recall curve: \")\n"
   ]
  },
  {
   "cell_type": "markdown",
   "metadata": {
    "id": "ZiYDf2_kn_6f"
   },
   "source": [
    "# **Inference**"
   ]
  },
  {
   "cell_type": "code",
   "execution_count": null,
   "metadata": {
    "colab": {
     "base_uri": "https://localhost:8080/"
    },
    "id": "0p3G-qnPoC2Z",
    "outputId": "1349e939-c914-45e4-8c1f-24bbc540e38e"
   },
   "outputs": [
    {
     "name": "stdout",
     "output_type": "stream",
     "text": [
      "Collecting gradio\n",
      "  Downloading gradio-2.4.6-py3-none-any.whl (979 kB)\n",
      "\u001b[K     |████████████████████████████████| 979 kB 5.1 MB/s \n",
      "\u001b[?25hRequirement already satisfied: Flask>=1.1.1 in /usr/local/lib/python3.7/dist-packages (from gradio) (1.1.4)\n",
      "Requirement already satisfied: pillow in /usr/local/lib/python3.7/dist-packages (from gradio) (7.1.2)\n",
      "Requirement already satisfied: requests in /usr/local/lib/python3.7/dist-packages (from gradio) (2.23.0)\n",
      "Collecting flask-cachebuster\n",
      "  Downloading Flask-CacheBuster-1.0.0.tar.gz (3.1 kB)\n",
      "Collecting pydub\n",
      "  Downloading pydub-0.25.1-py2.py3-none-any.whl (32 kB)\n",
      "Collecting ffmpy\n",
      "  Downloading ffmpy-0.3.0.tar.gz (4.8 kB)\n",
      "Collecting pycryptodome\n",
      "  Downloading pycryptodome-3.11.0-cp35-abi3-manylinux2010_x86_64.whl (1.9 MB)\n",
      "\u001b[K     |████████████████████████████████| 1.9 MB 7.2 MB/s \n",
      "\u001b[?25hCollecting analytics-python\n",
      "  Downloading analytics_python-1.4.0-py2.py3-none-any.whl (15 kB)\n",
      "Collecting paramiko\n",
      "  Downloading paramiko-2.8.1-py2.py3-none-any.whl (206 kB)\n",
      "\u001b[K     |████████████████████████████████| 206 kB 39.8 MB/s \n",
      "\u001b[?25hRequirement already satisfied: pandas in /usr/local/lib/python3.7/dist-packages (from gradio) (1.1.5)\n",
      "Collecting Flask-Cors>=3.0.8\n",
      "  Downloading Flask_Cors-3.0.10-py2.py3-none-any.whl (14 kB)\n",
      "Collecting markdown2\n",
      "  Downloading markdown2-2.4.2-py2.py3-none-any.whl (34 kB)\n",
      "Collecting Flask-Login\n",
      "  Downloading Flask_Login-0.5.0-py2.py3-none-any.whl (16 kB)\n",
      "Requirement already satisfied: matplotlib in /usr/local/lib/python3.7/dist-packages (from gradio) (3.2.2)\n",
      "Requirement already satisfied: numpy in /usr/local/lib/python3.7/dist-packages (from gradio) (1.19.5)\n",
      "Requirement already satisfied: click<8.0,>=5.1 in /usr/local/lib/python3.7/dist-packages (from Flask>=1.1.1->gradio) (7.1.2)\n",
      "Requirement already satisfied: itsdangerous<2.0,>=0.24 in /usr/local/lib/python3.7/dist-packages (from Flask>=1.1.1->gradio) (1.1.0)\n",
      "Requirement already satisfied: Jinja2<3.0,>=2.10.1 in /usr/local/lib/python3.7/dist-packages (from Flask>=1.1.1->gradio) (2.11.3)\n",
      "Requirement already satisfied: Werkzeug<2.0,>=0.15 in /usr/local/lib/python3.7/dist-packages (from Flask>=1.1.1->gradio) (1.0.1)\n",
      "Requirement already satisfied: Six in /usr/local/lib/python3.7/dist-packages (from Flask-Cors>=3.0.8->gradio) (1.15.0)\n",
      "Requirement already satisfied: MarkupSafe>=0.23 in /usr/local/lib/python3.7/dist-packages (from Jinja2<3.0,>=2.10.1->Flask>=1.1.1->gradio) (2.0.1)\n",
      "Collecting backoff==1.10.0\n",
      "  Downloading backoff-1.10.0-py2.py3-none-any.whl (31 kB)\n",
      "Collecting monotonic>=1.5\n",
      "  Downloading monotonic-1.6-py2.py3-none-any.whl (8.2 kB)\n",
      "Requirement already satisfied: python-dateutil>2.1 in /usr/local/lib/python3.7/dist-packages (from analytics-python->gradio) (2.8.2)\n",
      "Requirement already satisfied: certifi>=2017.4.17 in /usr/local/lib/python3.7/dist-packages (from requests->gradio) (2021.10.8)\n",
      "Requirement already satisfied: chardet<4,>=3.0.2 in /usr/local/lib/python3.7/dist-packages (from requests->gradio) (3.0.4)\n",
      "Requirement already satisfied: idna<3,>=2.5 in /usr/local/lib/python3.7/dist-packages (from requests->gradio) (2.10)\n",
      "Requirement already satisfied: urllib3!=1.25.0,!=1.25.1,<1.26,>=1.21.1 in /usr/local/lib/python3.7/dist-packages (from requests->gradio) (1.24.3)\n",
      "Requirement already satisfied: kiwisolver>=1.0.1 in /usr/local/lib/python3.7/dist-packages (from matplotlib->gradio) (1.3.2)\n",
      "Requirement already satisfied: pyparsing!=2.0.4,!=2.1.2,!=2.1.6,>=2.0.1 in /usr/local/lib/python3.7/dist-packages (from matplotlib->gradio) (3.0.6)\n",
      "Requirement already satisfied: cycler>=0.10 in /usr/local/lib/python3.7/dist-packages (from matplotlib->gradio) (0.11.0)\n",
      "Requirement already satisfied: pytz>=2017.2 in /usr/local/lib/python3.7/dist-packages (from pandas->gradio) (2018.9)\n",
      "Collecting bcrypt>=3.1.3\n",
      "  Downloading bcrypt-3.2.0-cp36-abi3-manylinux2010_x86_64.whl (63 kB)\n",
      "\u001b[K     |████████████████████████████████| 63 kB 2.4 MB/s \n",
      "\u001b[?25hCollecting pynacl>=1.0.1\n",
      "  Downloading PyNaCl-1.4.0-cp35-abi3-manylinux1_x86_64.whl (961 kB)\n",
      "\u001b[K     |████████████████████████████████| 961 kB 37.0 MB/s \n",
      "\u001b[?25hCollecting cryptography>=2.5\n",
      "  Downloading cryptography-36.0.0-cp36-abi3-manylinux_2_24_x86_64.whl (3.6 MB)\n",
      "\u001b[K     |████████████████████████████████| 3.6 MB 41.6 MB/s \n",
      "\u001b[?25hRequirement already satisfied: cffi>=1.1 in /usr/local/lib/python3.7/dist-packages (from bcrypt>=3.1.3->paramiko->gradio) (1.15.0)\n",
      "Requirement already satisfied: pycparser in /usr/local/lib/python3.7/dist-packages (from cffi>=1.1->bcrypt>=3.1.3->paramiko->gradio) (2.21)\n",
      "Building wheels for collected packages: ffmpy, flask-cachebuster\n",
      "  Building wheel for ffmpy (setup.py) ... \u001b[?25l\u001b[?25hdone\n",
      "  Created wheel for ffmpy: filename=ffmpy-0.3.0-py3-none-any.whl size=4710 sha256=d66817435346b39343c83569c2408a316be15b0990969e9b6d94528331ba01bc\n",
      "  Stored in directory: /root/.cache/pip/wheels/13/e4/6c/e8059816e86796a597c6e6b0d4c880630f51a1fcfa0befd5e6\n",
      "  Building wheel for flask-cachebuster (setup.py) ... \u001b[?25l\u001b[?25hdone\n",
      "  Created wheel for flask-cachebuster: filename=Flask_CacheBuster-1.0.0-py3-none-any.whl size=3371 sha256=4ea2416b655ded0c079138fa761181ac014fba435834f0800219349ae3f55675\n",
      "  Stored in directory: /root/.cache/pip/wheels/28/c0/c4/44687421dab41455be93112bd1b0dee1f3c5a9aa27bee63708\n",
      "Successfully built ffmpy flask-cachebuster\n",
      "Installing collected packages: pynacl, monotonic, cryptography, bcrypt, backoff, pydub, pycryptodome, paramiko, markdown2, Flask-Login, Flask-Cors, flask-cachebuster, ffmpy, analytics-python, gradio\n",
      "Successfully installed Flask-Cors-3.0.10 Flask-Login-0.5.0 analytics-python-1.4.0 backoff-1.10.0 bcrypt-3.2.0 cryptography-36.0.0 ffmpy-0.3.0 flask-cachebuster-1.0.0 gradio-2.4.6 markdown2-2.4.2 monotonic-1.6 paramiko-2.8.1 pycryptodome-3.11.0 pydub-0.25.1 pynacl-1.4.0\n"
     ]
    }
   ],
   "source": [
    "!pip install gradio"
   ]
  },
  {
   "cell_type": "code",
   "execution_count": null,
   "metadata": {
    "colab": {
     "base_uri": "https://localhost:8080/"
    },
    "id": "uKqEb3JjoutW",
    "outputId": "adae2d48-b1b1-48c0-8160-fc45cc8ea689"
   },
   "outputs": [
    {
     "name": "stdout",
     "output_type": "stream",
     "text": [
      "[[0.29350006 0.70649994]\n",
      " [0.92062929 0.07937071]]\n"
     ]
    }
   ],
   "source": [
    "pred_sentences = [\"This was an awesome movie. I watch it twice my time watching this beautiful movie if I have known it was this good\",\n",
    "                  \"One of the worst movies of all time. I cannot believe I wasted two hours of my life for this movie\"]\n",
    "texts_tst = vec.transform(pred_sentences).toarray()\n",
    "predicted = classifier.predict_proba(texts_tst)\n",
    "print(predicted)\n"
   ]
  },
  {
   "cell_type": "code",
   "execution_count": null,
   "metadata": {
    "colab": {
     "base_uri": "https://localhost:8080/",
     "height": 643
    },
    "id": "jlSIyM-aoDDW",
    "outputId": "4b9053ce-1584-48ec-f000-fe8dc189a3e3"
   },
   "outputs": [
    {
     "name": "stdout",
     "output_type": "stream",
     "text": [
      "Colab notebook detected. To show errors in colab notebook, set `debug=True` in `launch()`\n",
      "Running on public URL: https://47678.gradio.app\n",
      "\n",
      "This share link will expire in 72 hours. To get longer links, send an email to: support@gradio.app\n"
     ]
    },
    {
     "data": {
      "text/html": [
       "\n",
       "        <iframe\n",
       "            width=\"900\"\n",
       "            height=\"500\"\n",
       "            src=\"https://47678.gradio.app\"\n",
       "            frameborder=\"0\"\n",
       "            allowfullscreen\n",
       "        ></iframe>\n",
       "        "
      ],
      "text/plain": [
       "<IPython.lib.display.IFrame at 0x7f5a500307d0>"
      ]
     },
     "metadata": {},
     "output_type": "display_data"
    },
    {
     "data": {
      "text/plain": [
       "(<Flask 'gradio.networking'>,\n",
       " 'http://127.0.0.1:7860/',\n",
       " 'https://47678.gradio.app')"
      ]
     },
     "execution_count": 15,
     "metadata": {},
     "output_type": "execute_result"
    }
   ],
   "source": [
    "# https://www.gradio.app/ml_examples\n",
    "# examples : https://academichelp.net/samples/academics/reviews/movie/\n",
    "\n",
    "import numpy as np\n",
    "import gradio as gr\n",
    "import requests\n",
    "\n",
    "def inference(text):\n",
    "  x = [text]\n",
    "  my_text = vec.transform(x).toarray()\n",
    "  predicted = classifier.predict_proba(my_text)\n",
    "\n",
    "  labels = [\"Negative\",\"Positive\"]\n",
    "  dictionary = dict(zip(labels, map(float, predicted[0])))\n",
    "\n",
    "  return dictionary\n",
    "\n",
    "\n",
    "nbr_top_classes = 2\n",
    "gr.Interface(fn=inference, \n",
    "             inputs=\"textbox\", \n",
    "             outputs=gr.outputs.Label(num_top_classes=nbr_top_classes)).launch(share=True) #, debug=True Use in Colab\n"
   ]
  }
 ],
 "metadata": {
  "accelerator": "GPU",
  "colab": {
   "collapsed_sections": [
    "9TCQLbCujCO9",
    "ZiYDf2_kn_6f"
   ],
   "name": "scikit_Sentiment_Analysis.ipynb",
   "provenance": []
  },
  "kernelspec": {
   "display_name": "Python 3",
   "language": "python",
   "name": "python3"
  },
  "language_info": {
   "codemirror_mode": {
    "name": "ipython",
    "version": 3
   },
   "file_extension": ".py",
   "mimetype": "text/x-python",
   "name": "python",
   "nbconvert_exporter": "python",
   "pygments_lexer": "ipython3",
   "version": "3.8.5"
  }
 },
 "nbformat": 4,
 "nbformat_minor": 1
}
